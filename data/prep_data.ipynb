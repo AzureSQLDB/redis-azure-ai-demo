{
 "cells": [
  {
   "cell_type": "code",
   "execution_count": 82,
   "metadata": {},
   "outputs": [],
   "source": [
    "import json\n",
    "import typing as t\n",
    "\n",
    "# data prep\n",
    "import pandas as pd\n",
    "import numpy as np\n",
    "\n",
    "# for creating image vector embeddings\n",
    "from PIL import Image\n",
    "from img2vec_pytorch import Img2Vec\n",
    "\n",
    "# for creating semantic (text-based) vector embeddings\n",
    "from sentence_transformers import SentenceTransformer\n",
    "\n"
   ]
  },
  {
   "cell_type": "code",
   "execution_count": 86,
   "metadata": {},
   "outputs": [
    {
     "name": "stdout",
     "output_type": "stream",
     "text": [
      "<class 'pandas.core.frame.DataFrame'>\n",
      "Int64Index: 44077 entries, 0 to 44423\n",
      "Data columns (total 10 columns):\n",
      " #   Column              Non-Null Count  Dtype \n",
      "---  ------              --------------  ----- \n",
      " 0   id                  44077 non-null  int64 \n",
      " 1   gender              44077 non-null  object\n",
      " 2   masterCategory      44077 non-null  object\n",
      " 3   subCategory         44077 non-null  object\n",
      " 4   articleType         44077 non-null  object\n",
      " 5   baseColour          44077 non-null  object\n",
      " 6   season              44077 non-null  object\n",
      " 7   year                44077 non-null  int64 \n",
      " 8   usage               44077 non-null  object\n",
      " 9   productDisplayName  44077 non-null  object\n",
      "dtypes: int64(2), object(8)\n",
      "memory usage: 3.7+ MB\n"
     ]
    }
   ],
   "source": [
    "# load in data and clean data types and drop null rows\n",
    "metadata = pd.read_csv(\"./styles.csv\", on_bad_lines='skip')\n",
    "metadata.dropna(inplace=True)\n",
    "metadata[\"year\"] = metadata[\"year\"].astype(int)\n",
    "metadata.info()"
   ]
  },
  {
   "cell_type": "code",
   "execution_count": 87,
   "metadata": {},
   "outputs": [
    {
     "name": "stdout",
     "output_type": "stream",
     "text": [
      "<class 'pandas.core.frame.DataFrame'>\n",
      "Int64Index: 44077 entries, 0 to 44423\n",
      "Data columns (total 11 columns):\n",
      " #   Column              Non-Null Count  Dtype \n",
      "---  ------              --------------  ----- \n",
      " 0   product_id          44077 non-null  int64 \n",
      " 1   gender              44077 non-null  object\n",
      " 2   masterCategory      44077 non-null  object\n",
      " 3   subCategory         44077 non-null  object\n",
      " 4   articleType         44077 non-null  object\n",
      " 5   baseColour          44077 non-null  object\n",
      " 6   season              44077 non-null  object\n",
      " 7   year                44077 non-null  int64 \n",
      " 8   usage               44077 non-null  object\n",
      " 9   productDisplayName  44077 non-null  object\n",
      " 10  product_text        44077 non-null  object\n",
      "dtypes: int64(2), object(9)\n",
      "memory usage: 4.0+ MB\n"
     ]
    }
   ],
   "source": [
    "metadata[\"product_text\"] = metadata.apply(lambda row: f\"name {row['productDisplayName']} category {row['masterCategory']} subcategory {row['subCategory']} color {row['baseColour']} gender {row['gender']}\".lower(), axis=1)\n",
    "metadata.rename({\"id\":\"product_id\"}, inplace=True, axis=1)\n",
    "\n",
    "metadata.info()\n"
   ]
  },
  {
   "cell_type": "code",
   "execution_count": 88,
   "metadata": {},
   "outputs": [
    {
     "data": {
      "text/plain": [
       "'name turtle check men navy blue shirt category apparel subcategory topwear color navy blue gender men'"
      ]
     },
     "execution_count": 88,
     "metadata": {},
     "output_type": "execute_result"
    }
   ],
   "source": [
    "# check out one of the texts we will use to create semantic embeddings\n",
    "metadata[\"product_text\"][0]"
   ]
  },
  {
   "cell_type": "code",
   "execution_count": 89,
   "metadata": {},
   "outputs": [],
   "source": [
    "# Resnet-18 to create image embeddings\n",
    "img2vec = Img2Vec(cuda=False)\n",
    "\n",
    "# bert variant to create text embeddings\n",
    "model = SentenceTransformer('sentence-transformers/all-distilroberta-v1')"
   ]
  },
  {
   "cell_type": "code",
   "execution_count": 90,
   "metadata": {},
   "outputs": [],
   "source": [
    "def get_batch(seq, size):\n",
    "    return (seq[pos:pos + size] for pos in range(0, len(seq), size))\n",
    "\n",
    "def generate_image_vectors(products, image_base_path, batch_size=1000):\n",
    "    output_dict={}\n",
    "\n",
    "    for batch in get_batch(products, batch_size):\n",
    "        product_ids = batch['product_id'].values.tolist()\n",
    "        image_filenames = [image_base_path + \"/\" + str(_id) + \".jpg\" for _id in product_ids]\n",
    "        images=[]\n",
    "        converted=[]\n",
    "\n",
    "        for img_path, _id in zip(image_filenames, product_ids):\n",
    "            try:\n",
    "                img = Image.open(img_path).convert('RGB')\n",
    "                img = img.resize((224, 224))\n",
    "                images.append(img)\n",
    "                converted.append(_id)\n",
    "            except:\n",
    "                #unable_to_convert -> skip to the next image\n",
    "                continue\n",
    "\n",
    "        #Generate vectors for all images in this batch\n",
    "        vec_list = img2vec.get_vec(images)\n",
    "\n",
    "        #update the dictionary to be returned\n",
    "        batch_dict= dict(zip(converted, vec_list))\n",
    "        output_dict.update(batch_dict)\n",
    "        print(f\"Processed {str(batch_size)} product images\")\n",
    "\n",
    "    return output_dict\n",
    "\n",
    "def generate_text_vectors(products_df):\n",
    "    text_vectors = {}\n",
    "    # generate text vector\n",
    "    for index, row in products_df.iterrows():\n",
    "        text_vector = model.encode(row[\"product_text\"])\n",
    "        text_vectors[row[\"product_id\"]] = text_vector.astype(np.float32)\n",
    "        if index % 1000 == 0:\n",
    "            print(f\"Processed {str(index)} product text fields\")\n",
    "    return text_vectors\n",
    "\n",
    "# combine into a single json file\n",
    "def combine_vector_dicts(txt_vectors, img_vectors, products):\n",
    "    product_vectors = []\n",
    "    for _, row in products.iterrows():\n",
    "        try:\n",
    "            _id = row[\"product_id\"]\n",
    "            text_vector = txt_vectors[_id].tolist()\n",
    "            img_vector = img_vectors[_id].tolist()\n",
    "            vector_dict = {\n",
    "                \"text_vector\": text_vector,\n",
    "                \"img_vector\": img_vector,\n",
    "                \"product_id\": _id\n",
    "            }\n",
    "            product_vectors.append(vector_dict)\n",
    "        except KeyError:\n",
    "            continue\n",
    "    return product_vectors\n",
    "\n",
    "def write_product_vector_json(vector_dict):\n",
    "    product_vector_json = json.dumps(vector_dict)\n",
    "    with open(\"./product_vectors.json\", \"w\") as f:\n",
    "        f.write(product_vector_json)\n",
    "\n",
    "def write_product_metadata_json(metadata_df):\n",
    "    products = []\n",
    "    for _, row in metadata_df.iterrows():\n",
    "        product = {\n",
    "            \"product_id\": row[\"product_id\"],\n",
    "            # create a text based representation to create a semantic embedding with\n",
    "            \"product_metadata\": {\n",
    "                \"name\": row[\"productDisplayName\"],\n",
    "                \"gender\": row[\"gender\"],\n",
    "                \"master_category\": row[\"masterCategory\"],\n",
    "                \"sub_category\": row[\"subCategory\"],\n",
    "                \"article_type\": row[\"articleType\"],\n",
    "                \"base_color\": row[\"baseColour\"],\n",
    "                \"season\": row[\"season\"],\n",
    "                \"year\": row[\"year\"],\n",
    "                \"usage\": row[\"usage\"]\n",
    "            }\n",
    "        }\n",
    "        products.append(product)\n",
    "\n",
    "    products_json = json.dumps(products)\n",
    "    with open(\"./product_metadata.json\", \"w\") as f:\n",
    "        f.write(products_json)\n"
   ]
  },
  {
   "cell_type": "code",
   "execution_count": 91,
   "metadata": {},
   "outputs": [
    {
     "name": "stdout",
     "output_type": "stream",
     "text": [
      "Processed 1000 product images\n",
      "Processed 1000 product images\n",
      "Processed 1000 product images\n",
      "Processed 1000 product images\n",
      "Processed 1000 product images\n",
      "Processed 1000 product images\n",
      "Processed 1000 product images\n",
      "Processed 1000 product images\n",
      "Processed 1000 product images\n",
      "Processed 1000 product images\n",
      "Processed 0 product text fields\n",
      "Processed 1000 product text fields\n",
      "Processed 2000 product text fields\n",
      "Processed 3000 product text fields\n",
      "Processed 4000 product text fields\n",
      "Processed 5000 product text fields\n",
      "Processed 6000 product text fields\n",
      "Processed 7000 product text fields\n",
      "Processed 8000 product text fields\n",
      "Processed 9000 product text fields\n",
      "Processed 10000 product text fields\n"
     ]
    }
   ],
   "source": [
    "data_path = \"../app/vecsim_app/static/images\"\n",
    "num_products = 10000\n",
    "image_vectors = generate_image_vectors(metadata[:num_products], data_path, batch_size=1000)\n",
    "text_vectors = generate_text_vectors(metadata[:num_products])\n",
    "vector_dict = combine_vector_dicts(text_vectors, image_vectors, metadata)\n",
    "write_product_vector_json(vector_dict)\n",
    "write_product_metadata_json(metadata[:num_products])\n",
    "\n"
   ]
  }
 ],
 "metadata": {
  "interpreter": {
   "hash": "2308a14f828f4c69c4b8398d837b3e8063b63cb779a5f78af30d2f59d7d7db95"
  },
  "kernelspec": {
   "display_name": "Python 3.8.5 ('vecsim-app')",
   "language": "python",
   "name": "python3"
  },
  "language_info": {
   "codemirror_mode": {
    "name": "ipython",
    "version": 3
   },
   "file_extension": ".py",
   "mimetype": "text/x-python",
   "name": "python",
   "nbconvert_exporter": "python",
   "pygments_lexer": "ipython3",
   "version": "3.8.5"
  },
  "orig_nbformat": 4
 },
 "nbformat": 4,
 "nbformat_minor": 2
}
